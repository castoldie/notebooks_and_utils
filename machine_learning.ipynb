{
 "cells": [
  {
   "cell_type": "markdown",
   "id": "81e2270b",
   "metadata": {},
   "source": [
    "# Fundamentals of Machine Learning"
   ]
  },
  {
   "cell_type": "markdown",
   "id": "ddb8b11e",
   "metadata": {},
   "source": [
    "## Modules imports"
   ]
  },
  {
   "cell_type": "markdown",
   "id": "e2343f6d",
   "metadata": {},
   "source": [
    "There are many ways to import modules and classes in notebooks, but there is a best practice."
   ]
  },
  {
   "cell_type": "code",
   "execution_count": null,
   "id": "11c48033",
   "metadata": {},
   "outputs": [],
   "source": [
    "import sklearn # import of entire library\n",
    "model = sklearn.linear_model.LinearRegression() # must type library and module prefix every time\n",
    "\n",
    "import sklearn.linear_model # import of entire module\n",
    "model = linear_model.LinearRegression() # must type module prefix every time\n",
    "\n",
    "from sklearn import linear_model # import of entire module\n",
    "model = linear_model.LinearRegression() # must type module prefix every time\n",
    "\n",
    "from sklearn.linear_model import * # import of entire module\n",
    "model = LinearRegression()"
   ]
  },
  {
   "cell_type": "markdown",
   "id": "181e14d8",
   "metadata": {},
   "source": [
    "## Linear regression with SKLearn"
   ]
  },
  {
   "cell_type": "markdown",
   "id": "3a856cb3",
   "metadata": {},
   "source": [
    "### Data import"
   ]
  },
  {
   "cell_type": "code",
   "execution_count": null,
   "id": "ae28cc7d",
   "metadata": {},
   "outputs": [],
   "source": [
    "import pandas as pd\n",
    "\n",
    "data = pd.read_csv(\"./data/ML_Houses_dataset.csv\")\n",
    "\n",
    "data.head()"
   ]
  },
  {
   "cell_type": "markdown",
   "id": "18bb5334",
   "metadata": {},
   "source": [
    "### Data Exploration"
   ]
  },
  {
   "cell_type": "code",
   "execution_count": null,
   "id": "a8d8f109",
   "metadata": {},
   "outputs": [],
   "source": [
    "import matplotlib.pyplot as plt\n",
    "\n",
    "# Plot Living area vs Sale price\n",
    "plt.scatter(data['GrLivArea'], data['SalePrice'])\n",
    "\n",
    "# Labels\n",
    "plt.xlabel(\"Living area\")\n",
    "plt.ylabel(\"Sale price\")\n",
    "\n",
    "plt.show()\n",
    "\n",
    "# N.B. to examine the presence of outliers also a boxplot could be of help"
   ]
  },
  {
   "cell_type": "markdown",
   "id": "ceb5891c",
   "metadata": {},
   "source": [
    "### Training and feature/target split"
   ]
  },
  {
   "cell_type": "code",
   "execution_count": null,
   "id": "6baa359d",
   "metadata": {},
   "outputs": [],
   "source": [
    "# Import the model\n",
    "from sklearn.linear_model import LinearRegression\n",
    "\n",
    "# Instanciate the model\n",
    "model = LinearRegression()\n",
    "\n",
    "# Define X and y\n",
    "X = data[['GrLivArea']]\n",
    "y = data['SalePrice']\n",
    "\n",
    "# Train the model on the data\n",
    "model.fit(X, y)"
   ]
  },
  {
   "cell_type": "markdown",
   "id": "63c175e7",
   "metadata": {},
   "source": [
    "### Model attributes"
   ]
  },
  {
   "cell_type": "code",
   "execution_count": null,
   "id": "19fbbe0d",
   "metadata": {},
   "outputs": [],
   "source": [
    "# View the model's slope (a)\n",
    "print(model.coef_)\n",
    "# View the model's intercept (b)\n",
    "print(model.intercept_)"
   ]
  },
  {
   "cell_type": "markdown",
   "id": "bd64d592",
   "metadata": {},
   "source": [
    "### Scoring & Predicting"
   ]
  },
  {
   "cell_type": "code",
   "execution_count": null,
   "id": "59224115",
   "metadata": {},
   "outputs": [],
   "source": [
    "# Evaluate the model's performance...\n",
    "print(model.score(X,y))\n",
    "\n",
    "#  ... and predict on new data\n",
    "print(model.predict([[1000]]))"
   ]
  },
  {
   "cell_type": "markdown",
   "id": "46e044ea",
   "metadata": {},
   "source": [
    "### Sklearn modelling flow"
   ]
  },
  {
   "cell_type": "code",
   "execution_count": null,
   "id": "88056a4b",
   "metadata": {},
   "outputs": [],
   "source": [
    "from sklearn import # modelImport the model\n",
    "model = model() #Instanciate the model\n",
    "model.fit(X, y) #Train the model\n",
    "model.score(new_X, new_y) #Evaluate the model\n",
    "model.predict(new_X) #Make predictions"
   ]
  },
  {
   "cell_type": "markdown",
   "id": "3cbc71c1",
   "metadata": {},
   "source": [
    "## Generalization"
   ]
  },
  {
   "cell_type": "markdown",
   "id": "7e323d78",
   "metadata": {},
   "source": [
    "### The holdout method"
   ]
  },
  {
   "cell_type": "code",
   "execution_count": null,
   "id": "8756b22e",
   "metadata": {},
   "outputs": [],
   "source": [
    "# the classic way\n",
    "\n",
    "from sklearn.model_selection import train_test_split\n",
    "\n",
    "# split the data into train and test\n",
    "train_data, test_data = train_test_split(livecode_data, test_size=0.3)\n",
    "\n",
    "# Ready Xs and ys\n",
    "X_train = train_data[['GrLivArea']]\n",
    "y_train = train_data['SalePrice']\n",
    "\n",
    "X_test = test_data[['GrLivArea']]\n",
    "y_test = test_data['SalePrice']"
   ]
  },
  {
   "cell_type": "code",
   "execution_count": null,
   "id": "08213a7a",
   "metadata": {},
   "outputs": [],
   "source": [
    "# the \"pythonian\" way\n",
    "\n",
    "# Ready X and y\n",
    "X = livecode_data[['GrLivArea']]\n",
    "y = livecode_data['SalePrice']\n",
    "\n",
    "# Split into Train/Test\n",
    "X_train, X_test, y_train, y_test = train_test_split(X, y, test_size=0.3)"
   ]
  },
  {
   "cell_type": "markdown",
   "id": "34f58175",
   "metadata": {},
   "source": [
    "### Training and scoring"
   ]
  },
  {
   "cell_type": "code",
   "execution_count": null,
   "id": "4c00227c",
   "metadata": {},
   "outputs": [],
   "source": [
    "# Instanciate the model\n",
    "model = LinearRegression()\n",
    "\n",
    "# Train the model on the Training data\n",
    "model.fit(X_train, y_train)\n",
    "\n",
    "# Score the model on the Testing data\n",
    "model.score(X_test,y_test)"
   ]
  },
  {
   "cell_type": "markdown",
   "id": "dc36d998",
   "metadata": {},
   "source": [
    "### Data split is random"
   ]
  },
  {
   "cell_type": "code",
   "execution_count": null,
   "id": "17c819da",
   "metadata": {},
   "outputs": [],
   "source": [
    "# Different random splits will create different results\n",
    "### RUN THIS CELL MULTIPLE TIMES TO SEE DIFFERENT SCORES\n",
    "\n",
    "# Split into Train/Test\n",
    "X_train, X_test, y_train, y_test = train_test_split(X, y, test_size=0.3)\n",
    "\n",
    "# Instanciate the model\n",
    "model = LinearRegression()\n",
    "\n",
    "# Train the model on the Training data\n",
    "model.fit(X_train, y_train)\n",
    "\n",
    "# Score the model on the Testing data\n",
    "model.score(X_test,y_test)"
   ]
  },
  {
   "cell_type": "markdown",
   "id": "8f191fdd",
   "metadata": {},
   "source": [
    "### Cross validation (cross_validate function)"
   ]
  },
  {
   "cell_type": "code",
   "execution_count": null,
   "id": "198892f8",
   "metadata": {},
   "outputs": [],
   "source": [
    "from sklearn.model_selection import cross_validate\n",
    "\n",
    "# Instanciate model\n",
    "model = LinearRegression()\n",
    "\n",
    "# 5-Fold Cross validate model\n",
    "cv_results = cross_validate(model, X, y, cv=5)\n",
    "\n",
    "# Scores\n",
    "cv_results['test_score']\n",
    "\n",
    "# Mean of scores\n",
    "cv_results['test_score'].mean()"
   ]
  },
  {
   "cell_type": "markdown",
   "id": "e8c9c712",
   "metadata": {},
   "source": [
    "### Learning Curves with Sklearn"
   ]
  },
  {
   "cell_type": "code",
   "execution_count": 9,
   "id": "58be1cf4",
   "metadata": {},
   "outputs": [
    {
     "data": {
      "text/plain": [
       "<matplotlib.legend.Legend at 0x7f3625c1a670>"
      ]
     },
     "execution_count": 9,
     "metadata": {},
     "output_type": "execute_result"
    },
    {
     "data": {
      "image/png": "[encoded data removed]",
      "text/plain": [
       "<Figure size 432x288 with 1 Axes>"
      ]
     },
     "metadata": {
      "needs_background": "light"
     },
     "output_type": "display_data"
    }
   ],
   "source": [
    "import numpy as np\n",
    "from sklearn.model_selection import learning_curve\n",
    "\n",
    "train_sizes = [25,50,75,100,250,500,750,1000,1150]\n",
    "# Get train scores (R2), train sizes, and validation scores using `learning_curve`\n",
    "train_sizes, train_scores, test_scores = learning_curve(estimator=LinearRegression(),\n",
    "                                                        X=X,\n",
    "                                                        y=y,\n",
    "                                                        train_sizes=train_sizes,\n",
    "                                                        cv=5)\n",
    "\n",
    "# Take the mean of cross-validated train scores and validation scores\n",
    "train_scores_mean = np.mean(train_scores, axis=1)\n",
    "test_scores_mean = np.mean(test_scores, axis=1)\n",
    "\n",
    "plt.plot(train_sizes, train_scores_mean, label = 'Training score')\n",
    "plt.plot(train_sizes, test_scores_mean, label = 'Test score')\n",
    "plt.ylabel('r2 score', fontsize = 14)\n",
    "plt.xlabel('Training set size', fontsize = 14)\n",
    "plt.title('Learning curves', fontsize = 18, y = 1.03)\n",
    "plt.legend()"
   ]
  },
  {
   "cell_type": "markdown",
   "id": "fc39a64f",
   "metadata": {},
   "source": [
    "# Data preparation"
   ]
  },
  {
   "cell_type": "markdown",
   "id": "1e5c1cf5",
   "metadata": {},
   "source": [
    "- Duplicates\n",
    "- Missing data\n",
    "- Outliers\n",
    "- Scaling\n",
    "- Balancing\n",
    "- Encoding\n",
    "- Discretizing\n",
    "- Feature creation\n",
    "- Feature selection"
   ]
  },
  {
   "cell_type": "markdown",
   "id": "458356a9",
   "metadata": {},
   "source": [
    "### Duplicates"
   ]
  },
  {
   "cell_type": "code",
   "execution_count": null,
   "id": "d1566052",
   "metadata": {},
   "outputs": [],
   "source": [
    "len(data) # Check number of rows before removing duplicates\n",
    "\n",
    "data.duplicated() # Check whether a row is a duplicated version of a previous row\n",
    "\n",
    "data.duplicated().sum() # Compute the number of duplicated rows\n",
    "\n",
    "data = data.drop_duplicates() # Remove duplicates"
   ]
  },
  {
   "cell_type": "markdown",
   "id": "444d5430",
   "metadata": {},
   "source": [
    "### Detecting..."
   ]
  },
  {
   "cell_type": "code",
   "execution_count": null,
   "id": "a7e2d7e6",
   "metadata": {},
   "outputs": [],
   "source": [
    "data.isnull().sum().sort_values(ascending=False) #NaN count for each column\n",
    "\n",
    "data.isnull().sum().sort_values(ascending=False)/len(data) #NaN percentage for each column"
   ]
  },
  {
   "cell_type": "markdown",
   "id": "ab93e29d",
   "metadata": {},
   "source": [
    "### ... and handling Missing data"
   ]
  },
  {
   "cell_type": "code",
   "execution_count": null,
   "id": "6b35308c",
   "metadata": {},
   "outputs": [],
   "source": [
    "(data.WallMat.isnull().sum()/len(data))*100 # Percentage of missing values in a column, e.g. WallMat\n",
    "                                            # from given dataset\n",
    "\n",
    "data.drop(columns='WallMat', inplace=True) # Drop WallMat COLUMN entirely\n",
    "\n",
    "data.head()"
   ]
  },
  {
   "cell_type": "code",
   "execution_count": null,
   "id": "419ab0da",
   "metadata": {},
   "outputs": [],
   "source": [
    "import numpy as np\n",
    "\n",
    "(data.Alley.isnull().sum()/len(data))*100 #Percentage of missing values in Alley\n",
    "\n",
    "data.Alley.replace(np.nan, \"NoAlley\", inplace=True) #Replace NaN by \"NoAlley\"\n",
    "\n",
    "data.Alley.value_counts()#Check count of each category"
   ]
  },
  {
   "cell_type": "code",
   "execution_count": null,
   "id": "e2285b55",
   "metadata": {},
   "outputs": [],
   "source": [
    "(data.Pesos.isnull().sum()/len(data))*100 # Percentage of missing values in Pesos\n",
    "\n",
    "data.dropna(subset=['Pesos']) # Option 1: Drop ROWS where Pesos value is missing\n",
    "\n",
    "data.Pesos.replace(np.nan, data.Pesos.mean()) # Option 2: Replace missing Pesos values with mean"
   ]
  },
  {
   "cell_type": "markdown",
   "id": "021e546a",
   "metadata": {},
   "source": [
    "#### Sklearn's SimpleImputer"
   ]
  },
  {
   "cell_type": "code",
   "execution_count": null,
   "id": "59f37a03",
   "metadata": {},
   "outputs": [],
   "source": [
    "from sklearn.impute import SimpleImputer\n",
    "\n",
    "imputer = SimpleImputer(strategy=\"mean\") # Instanciate a SimpleImputer object with strategy of choice\n",
    "\n",
    "imputer.fit(data[['Pesos']]) # Call the \"fit\" method on the object\n",
    "\n",
    "data['Pesos'] = imputer.transform(data[['Pesos']]) # Call the \"transform\" method on the object\n",
    "\n",
    "imputer.statistics_ # The mean is stored in the transformer's memory"
   ]
  },
  {
   "cell_type": "markdown",
   "id": "8f6a0d96",
   "metadata": {},
   "source": [
    "### (Outliers) Detecting..."
   ]
  },
  {
   "cell_type": "code",
   "execution_count": 12,
   "id": "deb3a083",
   "metadata": {},
   "outputs": [
    {
     "data": {
      "text/plain": [
       "-1"
      ]
     },
     "execution_count": 12,
     "metadata": {},
     "output_type": "execute_result"
    },
    {
     "data": {
      "image/png": "[encoded data removed]",
      "text/plain": [
       "<Figure size 432x288 with 1 Axes>"
      ]
     },
     "metadata": {
      "needs_background": "light"
     },
     "output_type": "display_data"
    }
   ],
   "source": [
    "data[['GrLivArea']].boxplot()"
   ]
  },
  {
   "cell_type": "code",
   "execution_count": 13,
   "id": "37c80195",
   "metadata": {},
   "outputs": [
    {
     "data": {
      "text/plain": [
       "-1"
      ]
     },
     "execution_count": 13,
     "metadata": {},
     "output_type": "execute_result"
    }
   ],
   "source": [
    "data['GrLivArea'].min() \n",
    "-1"
   ]
  },
  {
   "cell_type": "markdown",
   "id": "a8bd52bc",
   "metadata": {},
   "source": [
    "### ... and handling"
   ]
  },
  {
   "cell_type": "code",
   "execution_count": 15,
   "id": "9414398c",
   "metadata": {},
   "outputs": [
    {
     "data": {
      "text/plain": [
       "<AxesSubplot:>"
      ]
     },
     "execution_count": 15,
     "metadata": {},
     "output_type": "execute_result"
    },
    {
     "data": {
      "image/png": "[encoded data removed]",
      "text/plain": [
       "<Figure size 432x288 with 1 Axes>"
      ]
     },
     "metadata": {
      "needs_background": "light"
     },
     "output_type": "display_data"
    }
   ],
   "source": [
    "# Dropping Outliers\n",
    "false_observation = data['GrLivArea'].argmin() # Get index corresponding to minimum value\n",
    "\n",
    "data = data.drop(false_observation).reset_index(drop=True) # Drop row\n",
    "\n",
    "data[['GrLivArea']].boxplot() # Visualize boxplot"
   ]
  },
  {
   "cell_type": "markdown",
   "id": "47c0a5dc",
   "metadata": {},
   "source": [
    "### Feature Scaling"
   ]
  },
  {
   "cell_type": "code",
   "execution_count": null,
   "id": "6c7c3377",
   "metadata": {},
   "outputs": [],
   "source": [
    "from sklearn.preprocessing import StandardScaler, RobustScaler, MinMaxScaler # imports"
   ]
  },
  {
   "cell_type": "code",
   "execution_count": null,
   "id": "dcee7f11",
   "metadata": {},
   "outputs": [],
   "source": [
    "sscaler = StandardScaler()\n",
    "mmscaler = MinMaxScaler()\n",
    "rscaler = RobustScaler() # initialization"
   ]
  },
  {
   "cell_type": "code",
   "execution_count": null,
   "id": "c92217ae",
   "metadata": {},
   "outputs": [],
   "source": [
    "X = data.drop(columns=\"target_column_name\") # selecting features\n",
    "selectedscaler.fit(X) # fitting the data\n",
    "X_scaled = selectedscaler.transform(X) # scale the data"
   ]
  },
  {
   "cell_type": "markdown",
   "id": "66f526d7",
   "metadata": {},
   "source": [
    "#### NB"
   ]
  },
  {
   "cell_type": "markdown",
   "id": "849e14c6",
   "metadata": {},
   "source": [
    " There isn't a precise rule of thumb for the feature scaler selection, rather depends on the case.\n",
    "\n",
    "Some examples are:\n",
    "- your features are absolute values (e.g. Age) and you don't have outliers? MinMax\n",
    "- not absolute values and no big outliers? StandardScaler(mu = 0 & std = 1) might be useful to you\n",
    "- the dataset is a complete mess, full of outliers and wonky data? RobustScaler comes to help!"
   ]
  },
  {
   "cell_type": "code",
   "execution_count": null,
   "id": "8243b7a7",
   "metadata": {},
   "outputs": [],
   "source": []
  },
  {
   "cell_type": "code",
   "execution_count": null,
   "id": "bfbf4580",
   "metadata": {},
   "outputs": [],
   "source": []
  },
  {
   "cell_type": "code",
   "execution_count": null,
   "id": "a83b7486",
   "metadata": {},
   "outputs": [],
   "source": []
  },
  {
   "cell_type": "code",
   "execution_count": null,
   "id": "f2ce246b",
   "metadata": {},
   "outputs": [],
   "source": []
  },
  {
   "cell_type": "code",
   "execution_count": null,
   "id": "5e6621e6",
   "metadata": {},
   "outputs": [],
   "source": []
  },
  {
   "cell_type": "code",
   "execution_count": null,
   "id": "aa04e59f",
   "metadata": {},
   "outputs": [],
   "source": []
  },
  {
   "cell_type": "code",
   "execution_count": null,
   "id": "56d53bdf",
   "metadata": {},
   "outputs": [],
   "source": []
  },
  {
   "cell_type": "code",
   "execution_count": null,
   "id": "7040d76c",
   "metadata": {},
   "outputs": [],
   "source": []
  },
  {
   "cell_type": "code",
   "execution_count": null,
   "id": "ba667051",
   "metadata": {},
   "outputs": [],
   "source": []
  },
  {
   "cell_type": "code",
   "execution_count": null,
   "id": "d38b8a47",
   "metadata": {},
   "outputs": [],
   "source": []
  },
  {
   "cell_type": "code",
   "execution_count": null,
   "id": "898d3a58",
   "metadata": {},
   "outputs": [],
   "source": []
  },
  {
   "cell_type": "code",
   "execution_count": null,
   "id": "880896d4",
   "metadata": {},
   "outputs": [],
   "source": []
  },
  {
   "cell_type": "code",
   "execution_count": null,
   "id": "7f0e2969",
   "metadata": {},
   "outputs": [],
   "source": []
  }
 ],
 "metadata": {
  "kernelspec": {
   "display_name": "Python 3 (ipykernel)",
   "language": "python",
   "name": "python3"
  },
  "language_info": {
   "codemirror_mode": {
    "name": "ipython",
    "version": 3
   },
   "file_extension": ".py",
   "mimetype": "text/x-python",
   "name": "python",
   "nbconvert_exporter": "python",
   "pygments_lexer": "ipython3",
   "version": "3.8.12"
  },
  "toc": {
   "base_numbering": 1,
   "nav_menu": {},
   "number_sections": true,
   "sideBar": true,
   "skip_h1_title": false,
   "title_cell": "Table of Contents",
   "title_sidebar": "Contents",
   "toc_cell": false,
   "toc_position": {
    "height": "calc(100% - 180px)",
    "left": "10px",
    "top": "150px",
    "width": "384px"
   },
   "toc_section_display": true,
   "toc_window_display": true
  }
 },
 "nbformat": 4,
 "nbformat_minor": 5
}
